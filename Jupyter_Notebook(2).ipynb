{
 "cells": [
  {
   "cell_type": "markdown",
   "metadata": {},
   "source": [
    "<center>\n",
    "    <img src=\"https://cf-courses-data.s3.us.cloud-object-storage.appdomain.cloud/IBMDeveloperSkillsNetwork-DS0105EN-SkillsNetwork/labs/Module2/images/SN_web_lightmode.png\" width=\"300\" alt=\"cognitiveclass.ai logo\">\n",
    "</center>\n"
   ]
  },
  {
   "cell_type": "markdown",
   "metadata": {},
   "source": [
    "#### Add your code below following the instructions given in the course\n"
   ]
  },
  {
   "cell_type": "markdown",
   "metadata": {},
   "source": [
    "# Final submission for the course \"Tools for Data Science\" on Coursera"
   ]
  },
  {
   "cell_type": "markdown",
   "metadata": {},
   "source": [
    "This Jupyter Notebook is my final submission in the course \"Tools for Data Science\" by IBM on Coursera, as part of the IBM Data Science Professional Certificate."
   ]
  },
  {
   "cell_type": "markdown",
   "metadata": {},
   "source": [
    "Some data science languages include:\n",
    "1. Python\n",
    "2. R\n",
    "3. SQL\n",
    "4. Java\n",
    "5. Scala"
   ]
  },
  {
   "cell_type": "markdown",
   "metadata": {},
   "source": [
    "Some data science libraries:\n",
    "1. pandas\n",
    "2. numpy\n",
    "3. Seaborn\n",
    "4. Scikit-learn"
   ]
  },
  {
   "cell_type": "markdown",
   "metadata": {},
   "source": [
    "Data Science Tools:\n",
    "\n",
    "| Task type | Tools |\n",
    "| :-: | :-: |\n",
    "| Data Management | MySQL, postgreSQL, Hadoop |\n",
    "| Data Integration and Transformation | Apache Airflow, Kubeflow, Apache Kafka |\n",
    "| Data Visualization | Hue, Kibana, Apache Superset |\n",
    "| Model Deployment | Apache PredictionIO, Seldon, MLeap |\n",
    "| Model Monitoring | ModelDB, Prometheus |\n",
    "| Code Asset Management | Git, GitHub, GitLab |\n",
    "| Data Asset Management | Apache Atlas, ODPi Egeria, Kylo |"
   ]
  },
  {
   "cell_type": "markdown",
   "metadata": {},
   "source": [
    "## Below I will introduce some arithmetic expressions with code\n",
    "First, multiplying and adding numbers (3x2 and 3+2)\n",
    "\n",
    "After that, converting minutes to hours"
   ]
  },
  {
   "cell_type": "code",
   "execution_count": 8,
   "metadata": {},
   "outputs": [
    {
     "name": "stdout",
     "output_type": "stream",
     "text": [
      "3 times 2 equals 6\n",
      "3 plus 2 equals 5\n",
      "6\n",
      "5\n"
     ]
    }
   ],
   "source": [
    "def multiply (num1, num2):\n",
    "    print(str(num1) + ' times ' + str(num2) + ' equals ' + str(num1*num2))\n",
    "multiply(3,2)\n",
    "def addNumbers (num1, num2):\n",
    "    print(str(num1) + ' plus ' + str(num2) + ' equals ' + str(num1+num2))\n",
    "addNumbers(3,2)\n",
    "\n",
    "# Or more easily:\n",
    "print(3*2)\n",
    "print(3+2)"
   ]
  },
  {
   "cell_type": "code",
   "execution_count": 7,
   "metadata": {},
   "outputs": [
    {
     "name": "stdout",
     "output_type": "stream",
     "text": [
      "90 minutes is 1.5 hours\n"
     ]
    }
   ],
   "source": [
    "def convertMinToHour(minutes):\n",
    "    print(str(minutes) + ' minutes is ' + str(minutes/60) + ' hours')\n",
    "convertMinToHour(90)"
   ]
  },
  {
   "cell_type": "markdown",
   "metadata": {},
   "source": [
    "## Some daily objectives\n",
    "- drink 2 liters of water \n",
    "- take your medication\n",
    "- learn some data science"
   ]
  },
  {
   "cell_type": "markdown",
   "metadata": {},
   "source": [
    "## Author: **Ákos Lukács**"
   ]
  }
 ],
 "metadata": {
  "kernelspec": {
   "display_name": "Python",
   "language": "python",
   "name": "conda-env-python-py"
  },
  "language_info": {
   "codemirror_mode": {
    "name": "ipython",
    "version": 3
   },
   "file_extension": ".py",
   "mimetype": "text/x-python",
   "name": "python",
   "nbconvert_exporter": "python",
   "pygments_lexer": "ipython3",
   "version": "3.7.12"
  }
 },
 "nbformat": 4,
 "nbformat_minor": 4
}
